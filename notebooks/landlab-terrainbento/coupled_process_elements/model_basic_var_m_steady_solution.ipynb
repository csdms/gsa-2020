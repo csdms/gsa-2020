{
 "cells": [
  {
   "cell_type": "markdown",
   "metadata": {},
   "source": [
    "![terrainbento logo](../images/terrainbento_logo.png)\n",
    "\n",
    "# terrainbento model Basic with variable $m$ steady-state solution"
   ]
  },
  {
   "cell_type": "markdown",
   "metadata": {},
   "source": [
    "This model shows example usage of the Basic model from the TerrainBento package with a variable drainage-area exponent, $m$:\n",
    "\n",
    "$\\frac{\\partial \\eta}{\\partial t} = - KQ^m S + D\\nabla^2 \\eta$\n",
    "\n",
    "where $K$ and $D$ are constants, $Q$ is discharge, $S$ is local slope, $m$ is the drainage area exponent, and $\\eta$ is the topography.\n",
    "\n",
    "Note that the units of $K$ depend on $m$, so that the value of $K$ used in Basic cannot be meaningfully compared to other values of $K$ unless the valuess of $m$ are the same.\n",
    "\n",
    "Refer to [Barnhart et al. (2019)](https://www.geosci-model-dev.net/12/1267/2019/) for further explaination. For detailed information about creating a Basic model, see [the detailed documentation](https://terrainbento.readthedocs.io/en/latest/source/terrainbento.derived_models.model_basic.html). \n",
    "\n",
    "This notebook (a) shows the initialization and running of this model, (b) saves a NetCDF file of the topography, which we will use to make an oblique Paraview image of the landscape, and (c) creates a slope-area plot at steady state."
   ]
  },
  {
   "cell_type": "code",
   "execution_count": 10,
   "metadata": {},
   "outputs": [],
   "source": [
    "# import required modules\n",
    "import os\n",
    "import numpy as np\n",
    "\n",
    "import matplotlib.pyplot as plt\n",
    "import matplotlib\n",
    "matplotlib.rcParams[\"font.size\"] = 20\n",
    "matplotlib.rcParams[\"pdf.fonttype\"] = 42\n",
    "%matplotlib inline\n",
    "\n",
    "from landlab import imshow_grid\n",
    "from landlab.io.netcdf import write_netcdf\n",
    "\n",
    "from terrainbento import Basic\n",
    "\n",
    "np.random.seed(42)"
   ]
  },
  {
   "cell_type": "code",
   "execution_count": 11,
   "metadata": {},
   "outputs": [],
   "source": [
    "# create the parameter dictionary needed to instantiate the model\n",
    "\n",
    "params = {\n",
    "    # create the Clock.\n",
    "    \"clock\": {\n",
    "        \"start\": 0,\n",
    "        \"step\": 10,\n",
    "        \"stop\": 1e7\n",
    "    },\n",
    "\n",
    "    # Create the Grid\n",
    "    \"grid\": {\n",
    "        \"RasterModelGrid\": [\n",
    "            (25, 40),\n",
    "            {\n",
    "                \"xy_spacing\": 40\n",
    "            },\n",
    "            {\n",
    "                \"fields\": {\n",
    "                    \"node\": {\n",
    "                        \"topographic__elevation\": {\n",
    "                            \"random\": [{\n",
    "                                \"where\": \"CORE_NODE\"\n",
    "                            }]\n",
    "                        }\n",
    "                    }\n",
    "                }\n",
    "            },\n",
    "        ]\n",
    "    },\n",
    "\n",
    "    # Set up Boundary Handlers\n",
    "    \"boundary_handlers\": {\n",
    "        \"NotCoreNodeBaselevelHandler\": {\n",
    "            \"modify_core_nodes\": True,\n",
    "            \"lowering_rate\": -0.001\n",
    "        }\n",
    "    },\n",
    "    # Parameters that control output.\n",
    "    \"output_interval\": 1e4,\n",
    "    \"save_first_timestep\": True,\n",
    "    \"output_prefix\": \"basicVm.\",\n",
    "    \"fields\": [\"topographic__elevation\"],\n",
    "\n",
    "    # Parameters that control process and rates.\n",
    "    \"water_erodibility\": 0.001,\n",
    "    \"m_sp\": 0.25,\n",
    "    \"n_sp\": 1.0,\n",
    "    \"regolith_transport_parameter\": 0.01,\n",
    "}"
   ]
  },
  {
   "cell_type": "code",
   "execution_count": 12,
   "metadata": {},
   "outputs": [],
   "source": [
    "# the tolerance here is high, so that this can run on binder and for tests. (recommended value = 0.001 or lower).\n",
    "tolerance = .001"
   ]
  },
  {
   "cell_type": "code",
   "execution_count": 13,
   "metadata": {},
   "outputs": [],
   "source": [
    "# we can use an output writer to run until the model reaches steady state.\n",
    "class run_to_steady(object):\n",
    "    def __init__(self, model):\n",
    "        self.model = model\n",
    "        self.last_z = self.model.z.copy()\n",
    "        self.tolerance = tolerance\n",
    "\n",
    "    def run_one_step(self):\n",
    "        if model.model_time > 0:\n",
    "            diff = (self.model.z[model.grid.core_nodes] -\n",
    "                    self.last_z[model.grid.core_nodes])\n",
    "            if max(abs(diff)) <= self.tolerance:\n",
    "                self.model.clock.stop = model._model_time\n",
    "                print(\"Model reached steady state in \" +\n",
    "                      str(model._model_time) + \" time units\\n\")\n",
    "            else:\n",
    "                self.last_z = self.model.z.copy()\n",
    "                if model._model_time <= self.model.clock.stop - self.model.output_interval:\n",
    "                    self.model.clock.stop += self.model.output_interval"
   ]
  },
  {
   "cell_type": "code",
   "execution_count": 14,
   "metadata": {},
   "outputs": [
    {
     "name": "stdout",
     "output_type": "stream",
     "text": [
      "Model reached steady state in 180000.0 time units\n",
      "\n"
     ]
    }
   ],
   "source": [
    "# initialize the model using the Model.from_dict() constructor.\n",
    "# We also pass the output writer here.\n",
    "model = Basic.from_dict(params, output_writers={\"class\": [run_to_steady]})\n",
    "\n",
    "# to run the model as specified, we execute the following line:\n",
    "model.run()"
   ]
  },
  {
   "cell_type": "code",
   "execution_count": 15,
   "metadata": {},
   "outputs": [
    {
     "data": {
      "image/png": "[encoded data removed]",
      "text/plain": [
       "<Figure size 432x270 with 1 Axes>"
      ]
     },
     "metadata": {
      "needs_background": "light"
     },
     "output_type": "display_data"
    }
   ],
   "source": [
    "#MAKE SLOPE-AREA PLOT\n",
    "\n",
    "# plot nodes that are not on the boundary or adjacent to it\n",
    "core_not_boundary = np.array(\n",
    "    model.grid.node_has_boundary_neighbor(model.grid.core_nodes)) == False\n",
    "plotting_nodes = model.grid.core_nodes[core_not_boundary]\n",
    "\n",
    "# assign area_array and slope_array\n",
    "area_array = model.grid.at_node[\"drainage_area\"][plotting_nodes]\n",
    "slope_array = model.grid.at_node[\"topographic__steepest_slope\"][plotting_nodes]\n",
    "\n",
    "# instantiate figure and plot\n",
    "fig = plt.figure(figsize=(6, 3.75))\n",
    "slope_area = plt.subplot()\n",
    "\n",
    "slope_area.scatter(area_array,\n",
    "                   slope_array,\n",
    "                   marker=\"o\",\n",
    "                   c=\"k\",\n",
    "                   label=\"Model Basic (m=0.25)\")\n",
    "\n",
    "# make axes log and set limits\n",
    "slope_area.set_xscale(\"log\")\n",
    "slope_area.set_yscale(\"log\")\n",
    "\n",
    "slope_area.set_xlim(9 * 10**1, 3 * 10**5)\n",
    "slope_area.set_ylim(1e-2, 1e0)\n",
    "\n",
    "# set x and y labels\n",
    "slope_area.set_xlabel(r\"Drainage area [m$^2$]\")\n",
    "slope_area.set_ylabel(\"Channel slope [-]\")\n",
    "slope_area.legend(scatterpoints=1, prop={\"size\": 12})\n",
    "slope_area.tick_params(axis=\"x\", which=\"major\", pad=7)\n",
    "\n",
    "plt.show()"
   ]
  },
  {
   "cell_type": "code",
   "execution_count": 16,
   "metadata": {},
   "outputs": [],
   "source": [
    "# Save stack of all netcdfs for Paraview to use.\n",
    "# model.save_to_xarray_dataset(filename=\"basicVm.nc\",\n",
    "#                              time_unit='years',\n",
    "#                              reference_time='model start',\n",
    "#                              space_unit='meters')\n",
    "\n",
    "# remove temporary netcdfs\n",
    "model.remove_output_netcdfs()"
   ]
  },
  {
   "cell_type": "code",
   "execution_count": 17,
   "metadata": {},
   "outputs": [
    {
     "data": {
      "image/png": "[encoded data removed]",
      "text/plain": [
       "<Figure size 432x288 with 2 Axes>"
      ]
     },
     "metadata": {
      "needs_background": "light"
     },
     "output_type": "display_data"
    }
   ],
   "source": [
    "# make a plot of the final steady state topography\n",
    "imshow_grid(model.grid, \"topographic__elevation\")"
   ]
  },
  {
   "cell_type": "markdown",
   "metadata": {},
   "source": [
    "## Next Steps\n",
    "\n",
    "- We recommend you review the [terrainbento manuscript](https://www.geosci-model-dev.net/12/1267/2019/).\n",
    "\n",
    "- There are three additional introductory tutorials: \n",
    "\n",
    "    1) [Introduction terrainbento](../example_usage/Introduction_to_terrainbento.ipynb) \n",
    "    \n",
    "    2) [Introduction to boundary conditions in terrainbento](../example_usage/introduction_to_boundary_conditions.ipynb)\n",
    "    \n",
    "    3) [Introduction to output writers in terrainbento](../example_usage/introduction_to_output_writers.ipynb). \n",
    "    \n",
    "    \n",
    "- Five examples of steady state behavior in coupled process models can be found in the following notebooks:\n",
    "\n",
    "    1) [Basic](model_basic_steady_solution.ipynb) the simplest landscape evolution model in the terrainbento package.\n",
    "\n",
    "    2) **This Notebook**: [BasicVm](model_basic_var_m_steady_solution.ipynb) which permits the drainage area exponent to change\n",
    "\n",
    "    3) [BasicCh](model_basicCh_steady_solution.ipynb) which uses a non-linear hillslope erosion and transport law\n",
    "\n",
    "    4) [BasicVs](model_basicVs_steady_solution.ipynb) which uses variable source area hydrology\n",
    "\n",
    "    5) [BasisRt](model_basicRt_steady_solution.ipynb) which allows for two lithologies with different K values"
   ]
  }
 ],
 "metadata": {
  "kernelspec": {
   "display_name": "Python 3",
   "language": "python",
   "name": "python3"
  },
  "language_info": {
   "codemirror_mode": {
    "name": "ipython",
    "version": 3
   },
   "file_extension": ".py",
   "mimetype": "text/x-python",
   "name": "python",
   "nbconvert_exporter": "python",
   "pygments_lexer": "ipython3",
   "version": "3.8.4"
  }
 },
 "nbformat": 4,
 "nbformat_minor": 2
}
